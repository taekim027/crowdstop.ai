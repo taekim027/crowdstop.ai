{
 "cells": [
  {
   "cell_type": "code",
   "execution_count": 1,
   "metadata": {},
   "outputs": [],
   "source": [
    "import neo4j\n",
    "import pandas as pd\n",
    "from IPython.display import display\n"
   ]
  },
  {
   "cell_type": "code",
   "execution_count": 26,
   "metadata": {},
   "outputs": [],
   "source": [
    "from neo4j import GraphDatabase\n",
    "\n",
    "URI = \"neo4j+s://c19229a7.databases.neo4j.io\"\n",
    "AUTH = (\"neo4j\", \"tnEtQ0O15IEvafbjhyQZzJtUxgvQJFy3om-9adbdVlc\")\n",
    "\n",
    "with GraphDatabase.driver(URI, auth = AUTH) as driver:\n",
    "    driver.verify_connectivity()"
   ]
  },
  {
   "cell_type": "code",
   "execution_count": 16,
   "metadata": {},
   "outputs": [
    {
     "name": "stderr",
     "output_type": "stream",
     "text": [
      "C:\\Users\\Jeremy Lan\\AppData\\Local\\Temp\\ipykernel_40396\\3309652293.py:1: DeprecationWarning: Using a driver after it has been closed is deprecated. Future versions of the driver will raise an error.\n",
      "  summary = driver.execute_query(\n"
     ]
    },
    {
     "name": "stdout",
     "output_type": "stream",
     "text": [
      "Created 1 nodes in 63 ms.\n"
     ]
    }
   ],
   "source": [
    "summary = driver.execute_query(\n",
    "    \"MERGE (a5:Camera:Intersection {name: $name})\",  \n",
    "    name=\"A St. 5th St.\",  \n",
    "    database_=\"neo4j\",  \n",
    ").summary\n",
    "print(\"Created {nodes_created} nodes in {time} ms.\".format(\n",
    "    nodes_created=summary.counters.nodes_created,\n",
    "    time=summary.result_available_after\n",
    "))"
   ]
  },
  {
   "cell_type": "code",
   "execution_count": 31,
   "metadata": {},
   "outputs": [],
   "source": [
    "driver  = neo4j.GraphDatabase.driver(uri = \"neo4j+s://c19229a7.databases.neo4j.io\", auth = (\"neo4j\", \"tnEtQ0O15IEvafbjhyQZzJtUxgvQJFy3om-9adbdVlc\"))\n",
    "session = driver.session(database = 'neo4j')"
   ]
  },
  {
   "cell_type": "code",
   "execution_count": 32,
   "metadata": {},
   "outputs": [],
   "source": [
    "def my_neo4j_wipe_out_database():\n",
    "    '''deletes all nodes and relationships'''\n",
    "    query = \"match (node)-[relationship]->() delete node, relationship\"\n",
    "    session.run(query)\n",
    "\n",
    "    query = \"match (node) delete node\"\n",
    "    session.run(query)"
   ]
  },
  {
   "cell_type": "code",
   "execution_count": 24,
   "metadata": {},
   "outputs": [
    {
     "data": {
      "text/plain": [
       "<neo4j._sync.work.result.Result at 0x2ec25e03df0>"
      ]
     },
     "execution_count": 24,
     "metadata": {},
     "output_type": "execute_result"
    }
   ],
   "source": [
    "my_neo4j_wipe_out_database()\n",
    "\n",
    "query = \"\"\"\n",
    "\n",
    "CREATE \n",
    "(a1:Camera:Intersection {name: 'A St. 1st St.', density: 500}),\n",
    "(a2:Camera:Intersection {name: 'A St. 2nd St.', density: 500}),\n",
    "(a3:Camera:Intersection {name: 'A St. 3rd St.', density: 500}),\n",
    "(b1:Camera:Intersection {name: 'B St. 1st St.', density: 500}),\n",
    "(b2:Camera:Intersection {name: 'B St. 2nd St.', density: 500}),\n",
    "(b3:Camera:Intersection {name: 'B St. 3rd St.', density: 500}),\n",
    "(c1:Camera:Intersection {name: 'C St. 1st St.', density: 500}),\n",
    "(c2:Camera:Intersection {name: 'C St. 2nd St.', density: 500}),\n",
    "(c3:Camera:Intersection {name: 'C St. 3rd St.', density: 500})\n",
    "CREATE (a1)-[:street {flow: 100}]->(a2)\n",
    "CREATE (a2)-[:street {flow: 100}]->(a1)\n",
    "CREATE (a1)-[:street {flow: 100}]->(b1)\n",
    "CREATE (b1)-[:street {flow: 100}]->(a1)\n",
    "CREATE (b1)-[:street {flow: 100}]->(b2)\n",
    "CREATE (b2)-[:street {flow: 100}]->(b1)\n",
    "CREATE (b1)-[:street {flow: 100}]->(c1)\n",
    "CREATE (c1)-[:street {flow: 100}]->(b1)\n",
    "CREATE (b2)-[:street {flow: 100}]->(c2)\n",
    "CREATE (c2)-[:street {flow: 100}]->(b2)\n",
    "CREATE (c1)-[:street {flow: 100}]->(c2)\n",
    "CREATE (c2)-[:street {flow: 100}]->(c1)\n",
    "CREATE (c3)-[:street {flow: 100}]->(c2)\n",
    "CREATE (c2)-[:street {flow: 100}]->(c3)\n",
    "CREATE (c3)-[:street {flow: 100}]->(b3)\n",
    "CREATE (b3)-[:street {flow: 100}]->(c3)\n",
    "CREATE (a3)-[:street {flow: 100}]->(b3)\n",
    "CREATE (b3)-[:street {flow: 100}]->(a3)\n",
    "CREATE (a2)-[:street {flow: 100}]->(b2)\n",
    "CREATE (b2)-[:street {flow: 100}]->(a2)\n",
    "CREATE (a3)-[:street {flow: 100}]->(a2)\n",
    "CREATE (a2)-[:street {flow: 100}]->(a3)\n",
    "CREATE (b3)-[:street {flow: 100}]->(b2)\n",
    "CREATE (b2)-[:street {flow: 100}]->(b3)\n",
    "\"\"\"\n",
    "# (a1)-[:IS_CONNECTED_TO]->(a2)\n",
    "# (a1)-[:IS_CONNECTED_TO]->(b1)\n",
    "# (a2)-[:IS_CONNECTED_TO]->(a1)\n",
    "# (b1)-[:IS_CONNECTED_TO]->(a1)\n",
    "# (a2)-[:IS_CONNECTED_TO]->(a3)\n",
    "# (a3)-[:IS_CONNECTED_TO]->(a2)\n",
    "# (a2)-[:IS_CONNECTED_TO]->(b2)\n",
    "# (b2)-[:IS_CONNECTED_TO]->(a2)\n",
    "# (a3)-[:IS_CONNECTED_TO]->(b3)\n",
    "# (b3)-[:IS_CONNECTED_TO]->(a3)\n",
    "# \"\"\"\n",
    "\n",
    "session.run(query)"
   ]
  },
  {
   "cell_type": "code",
   "execution_count": 35,
   "metadata": {},
   "outputs": [
    {
     "data": {
      "text/plain": [
       "<neo4j._sync.work.result.Result at 0x2ec0adb8a30>"
      ]
     },
     "execution_count": 35,
     "metadata": {},
     "output_type": "execute_result"
    }
   ],
   "source": [
    "my_neo4j_wipe_out_database()\n",
    "\n",
    "query2 = \"\"\"\n",
    "\n",
    "CREATE \n",
    "(c1:Camera:Intersection {name: 'Camera 1', density: 500}),\n",
    "(c2:Camera:Intersection {name: 'Camera 2', density: 500}),\n",
    "(c3:Camera:Intersection {name: 'Camera 3', density: 500}),\n",
    "(c4:Camera:Intersection {name: 'Camera 4', density: 500}),\n",
    "(N1:Node:Intersection {name: 'x', density: 0}),\n",
    "(N2:Node:Intersection {name: 'x', density: 0}),\n",
    "(POI1:POI:Intersection {name: 'POI', density: 500})\n",
    "CREATE (c1)-[:street {flow: 100}]->(N1)\n",
    "CREATE (c2)-[:street {flow: 100}]->(N1)\n",
    "CREATE (N1)-[:street {flow: 0}]->(c1)\n",
    "CREATE (N1)-[:street {flow: 0}]->(c2)\n",
    "CREATE (c3)-[:street {flow: 100}]->(N2)\n",
    "CREATE (c4)-[:street {flow: 100}]->(N2)\n",
    "CREATE (N2)-[:street {flow: 0}]->(c3)\n",
    "CREATE (N2)-[:street {flow: 0}]->(c4)\n",
    "CREATE (POI1)-[:street {flow: 0}]->(N1)\n",
    "CREATE (POI1)-[:street {flow: 0}]->(N2)\n",
    "CREATE (N1)-[:street {flow: 0}]->(POI1)\n",
    "CREATE (N2)-[:street {flow: 0}]->(POI1)\n",
    "\n",
    "\"\"\"\n",
    "# (a1)-[:IS_CONNECTED_TO]->(a2)\n",
    "# (a1)-[:IS_CONNECTED_TO]->(b1)\n",
    "# (a2)-[:IS_CONNECTED_TO]->(a1)\n",
    "# (b1)-[:IS_CONNECTED_TO]->(a1)\n",
    "# (a2)-[:IS_CONNECTED_TO]->(a3)\n",
    "# (a3)-[:IS_CONNECTED_TO]->(a2)\n",
    "# (a2)-[:IS_CONNECTED_TO]->(b2)\n",
    "# (b2)-[:IS_CONNECTED_TO]->(a2)\n",
    "# (a3)-[:IS_CONNECTED_TO]->(b3)\n",
    "# (b3)-[:IS_CONNECTED_TO]->(a3)\n",
    "# \"\"\"\n",
    "\n",
    "session.run(query2)"
   ]
  }
 ],
 "metadata": {
  "kernelspec": {
   "display_name": "py310",
   "language": "python",
   "name": "python3"
  },
  "language_info": {
   "codemirror_mode": {
    "name": "ipython",
    "version": 3
   },
   "file_extension": ".py",
   "mimetype": "text/x-python",
   "name": "python",
   "nbconvert_exporter": "python",
   "pygments_lexer": "ipython3",
   "version": "3.10.0"
  },
  "orig_nbformat": 4
 },
 "nbformat": 4,
 "nbformat_minor": 2
}
